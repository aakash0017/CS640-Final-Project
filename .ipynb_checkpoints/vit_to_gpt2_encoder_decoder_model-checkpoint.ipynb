{
 "cells": [
  {
   "cell_type": "code",
   "execution_count": 4,
   "metadata": {},
   "outputs": [
    {
     "name": "stdout",
     "output_type": "stream",
     "text": [
      "Requirement already satisfied: torch in ./myenv/lib/python3.10/site-packages (1.13.0)\n",
      "Requirement already satisfied: typing-extensions in ./myenv/lib/python3.10/site-packages (from torch) (4.4.0)\n",
      "\n",
      "\u001b[1m[\u001b[0m\u001b[34;49mnotice\u001b[0m\u001b[1;39;49m]\u001b[0m\u001b[39;49m A new release of pip available: \u001b[0m\u001b[31;49m22.2.2\u001b[0m\u001b[39;49m -> \u001b[0m\u001b[32;49m22.3\u001b[0m\n",
      "\u001b[1m[\u001b[0m\u001b[34;49mnotice\u001b[0m\u001b[1;39;49m]\u001b[0m\u001b[39;49m To update, run: \u001b[0m\u001b[32;49mpip install --upgrade pip\u001b[0m\n"
     ]
    }
   ],
   "source": [
    "!pip3 install torch"
   ]
  },
  {
   "cell_type": "code",
   "execution_count": 5,
   "metadata": {
    "_cell_guid": "b1076dfc-b9ad-4769-8c92-a6c4dae69d19",
    "_uuid": "8f2839f25d086af736a60e9eeb907d3b93b6e0e5",
    "execution": {
     "iopub.execute_input": "2022-10-27T23:47:25.577784Z",
     "iopub.status.busy": "2022-10-27T23:47:25.577170Z",
     "iopub.status.idle": "2022-10-27T23:48:10.508324Z",
     "shell.execute_reply": "2022-10-27T23:48:10.507465Z",
     "shell.execute_reply.started": "2022-10-27T23:47:25.577686Z"
    },
    "id": "XX9MrzCGw-K3"
   },
   "outputs": [
    {
     "ename": "ModuleNotFoundError",
     "evalue": "No module named 'torch'",
     "output_type": "error",
     "traceback": [
      "\u001b[0;31m---------------------------------------------------------------------------\u001b[0m",
      "\u001b[0;31mModuleNotFoundError\u001b[0m                       Traceback (most recent call last)",
      "Cell \u001b[0;32mIn [5], line 3\u001b[0m\n\u001b[1;32m      1\u001b[0m \u001b[38;5;28;01mfrom\u001b[39;00m \u001b[38;5;21;01m__future__\u001b[39;00m \u001b[38;5;28;01mimport\u001b[39;00m print_function, division\n\u001b[1;32m      2\u001b[0m \u001b[38;5;28;01mimport\u001b[39;00m \u001b[38;5;21;01mos\u001b[39;00m\n\u001b[0;32m----> 3\u001b[0m \u001b[38;5;28;01mimport\u001b[39;00m \u001b[38;5;21;01mtorch\u001b[39;00m\n\u001b[1;32m      4\u001b[0m \u001b[38;5;28;01mfrom\u001b[39;00m \u001b[38;5;21;01mtyping\u001b[39;00m \u001b[38;5;28;01mimport\u001b[39;00m Callable, Dict, List, Optional, Tuple, Union\n\u001b[1;32m      5\u001b[0m \u001b[38;5;28;01mfrom\u001b[39;00m \u001b[38;5;21;01mtorch\u001b[39;00m\u001b[38;5;21;01m.\u001b[39;00m\u001b[38;5;21;01mutils\u001b[39;00m\u001b[38;5;21;01m.\u001b[39;00m\u001b[38;5;21;01mdata\u001b[39;00m \u001b[38;5;28;01mimport\u001b[39;00m Dataset, DataLoader, random_split\n",
      "\u001b[0;31mModuleNotFoundError\u001b[0m: No module named 'torch'"
     ]
    }
   ],
   "source": [
    "from __future__ import print_function, division\n",
    "import os\n",
    "import torch\n",
    "from typing import Callable, Dict, List, Optional, Tuple, Union\n",
    "from torch.utils.data import Dataset, DataLoader, random_split\n",
    "import torchvision.datasets as dset\n",
    "import random\n",
    "from transformers import EncoderDecoderModel, GPT2Tokenizer, ViTFeatureExtractor\n",
    "from tqdm.auto import tqdm\n",
    "import torch.nn as nn\n",
    "import torch.nn.functional as F\n",
    "import pandas as pd\n",
    "import torchvision.datasets as dset\n",
    "import multiprocessing as mp\n",
    "from skimage import io, transform\n",
    "import numpy as np\n",
    "import matplotlib.pyplot as plt\n",
    "from torch.utils.data import Dataset, DataLoader\n",
    "from torchvision import transforms, utils\n",
    "import pytorch_lightning as pl\n",
    "from deepspeed.ops.adam import FusedAdam\n",
    "from pytorch_lightning.loggers import WandbLogger\n",
    "import wandb\n",
    "\n",
    "# Ignore warnings\n",
    "import warnings\n",
    "warnings.filterwarnings(\"ignore\")\n",
    "\n",
    "plt.ion()   # interactive mode"
   ]
  },
  {
   "cell_type": "code",
   "execution_count": 5,
   "metadata": {
    "colab": {
     "base_uri": "https://localhost:8080/"
    },
    "id": "Fp-0rLYuyopA",
    "outputId": "e576d966-2ed5-4455-fecf-240020d001a7"
   },
   "outputs": [
    {
     "name": "stdout",
     "output_type": "stream",
     "text": [
      "Mounted at /content/drive\n"
     ]
    }
   ],
   "source": [
    "from google.colab import drive\n",
    "drive.mount('/content/drive')"
   ]
  },
  {
   "cell_type": "markdown",
   "metadata": {
    "id": "K7IaFK47w-K5"
   },
   "source": [
    "## Config"
   ]
  },
  {
   "cell_type": "code",
   "execution_count": 103,
   "metadata": {
    "execution": {
     "iopub.execute_input": "2021-12-27T00:07:50.875886Z",
     "iopub.status.busy": "2021-12-27T00:07:50.875635Z",
     "iopub.status.idle": "2021-12-27T00:07:50.883294Z",
     "shell.execute_reply": "2021-12-27T00:07:50.882656Z",
     "shell.execute_reply.started": "2021-12-27T00:07:50.87585Z"
    },
    "id": "_1xy-BN5w-K6"
   },
   "outputs": [],
   "source": [
    "VIT_MODEL = \"google/vit-base-patch16-224-in21k\"\n",
    "GPT2 = \"gpt2\"\n",
    "DISTIL_GPT2 = \"distilgpt2\"\n",
    "\n",
    "DATA_PATH = \"/content/drive/MyDrive/CS640 Project/AI Project\"\n",
    "\n",
    "# \"/content/drive/MyDrive/CS640 Project/Processed Frames/\"\n",
    "ANNOTATION_PATH = \"/content/drive/MyDrive/CS640 Project/Y.json\"\n",
    "\n",
    "MEAN = (0.485, 0.456, 0.406)\n",
    "STD = (0.229, 0.224, 0.225)\n",
    "\n",
    "TRAIN_PCT = 0.95\n",
    "NUM_WORKERS = mp.cpu_count()\n",
    "BATCH_SIZE = 8\n",
    "EPOCHS = 3\n",
    "LR = 1e-4\n",
    "IMAGE_SIZE = (224, 224)\n",
    "\n",
    "MAX_TEXT_LENGTH = 32\n",
    "\n",
    "LABEL_MASK = -100\n",
    "\n",
    "TOP_K = 1000\n",
    "TOP_P = 0.95"
   ]
  },
  {
   "cell_type": "code",
   "execution_count": 7,
   "metadata": {
    "id": "GNBwCXNuT7lw"
   },
   "outputs": [],
   "source": [
    "y = pd.read_csv('/content/drive/MyDrive/CS640 Project/Y.csv')\n",
    "# y.to_json('/content/drive/MyDrive/CS640 Project/Y.json')"
   ]
  },
  {
   "cell_type": "code",
   "execution_count": null,
   "metadata": {
    "colab": {
     "base_uri": "https://localhost:8080/",
     "height": 424
    },
    "id": "lEw1B4fqrjmQ",
    "outputId": "7af79494-6771-4599-ae7e-ccb613c83d68"
   },
   "outputs": [
    {
     "data": {
      "text/html": [
       "\n",
       "  <div id=\"df-b19e391f-f497-4ea3-9e52-e18e6a04030f\">\n",
       "    <div class=\"colab-df-container\">\n",
       "      <div>\n",
       "<style scoped>\n",
       "    .dataframe tbody tr th:only-of-type {\n",
       "        vertical-align: middle;\n",
       "    }\n",
       "\n",
       "    .dataframe tbody tr th {\n",
       "        vertical-align: top;\n",
       "    }\n",
       "\n",
       "    .dataframe thead th {\n",
       "        text-align: right;\n",
       "    }\n",
       "</style>\n",
       "<table border=\"1\" class=\"dataframe\">\n",
       "  <thead>\n",
       "    <tr style=\"text-align: right;\">\n",
       "      <th></th>\n",
       "      <th>label</th>\n",
       "    </tr>\n",
       "  </thead>\n",
       "  <tbody>\n",
       "    <tr>\n",
       "      <th>0</th>\n",
       "      <td>Caroline Ingalls is a ZOMBIE!! -- New subreddi...</td>\n",
       "    </tr>\n",
       "    <tr>\n",
       "      <th>1</th>\n",
       "      <td>Caroline Ingalls is a ZOMBIE!! -- New subreddi...</td>\n",
       "    </tr>\n",
       "    <tr>\n",
       "      <th>2</th>\n",
       "      <td>Caroline Ingalls is a ZOMBIE!! -- New subreddi...</td>\n",
       "    </tr>\n",
       "    <tr>\n",
       "      <th>3</th>\n",
       "      <td>Caroline Ingalls is a ZOMBIE!! -- New subreddi...</td>\n",
       "    </tr>\n",
       "    <tr>\n",
       "      <th>4</th>\n",
       "      <td>Caroline Ingalls is a ZOMBIE!! -- New subreddi...</td>\n",
       "    </tr>\n",
       "    <tr>\n",
       "      <th>...</th>\n",
       "      <td>...</td>\n",
       "    </tr>\n",
       "    <tr>\n",
       "      <th>2049</th>\n",
       "      <td>Elpedroym0.png</td>\n",
       "    </tr>\n",
       "    <tr>\n",
       "      <th>2050</th>\n",
       "      <td>Elpedroym1.png</td>\n",
       "    </tr>\n",
       "    <tr>\n",
       "      <th>2051</th>\n",
       "      <td>Elpedroym2.png</td>\n",
       "    </tr>\n",
       "    <tr>\n",
       "      <th>2052</th>\n",
       "      <td>Elpedroym3.png</td>\n",
       "    </tr>\n",
       "    <tr>\n",
       "      <th>2053</th>\n",
       "      <td>FRIENDS WITH BENEFITS..0.png</td>\n",
       "    </tr>\n",
       "  </tbody>\n",
       "</table>\n",
       "<p>2054 rows × 1 columns</p>\n",
       "</div>\n",
       "      <button class=\"colab-df-convert\" onclick=\"convertToInteractive('df-b19e391f-f497-4ea3-9e52-e18e6a04030f')\"\n",
       "              title=\"Convert this dataframe to an interactive table.\"\n",
       "              style=\"display:none;\">\n",
       "        \n",
       "  <svg xmlns=\"http://www.w3.org/2000/svg\" height=\"24px\"viewBox=\"0 0 24 24\"\n",
       "       width=\"24px\">\n",
       "    <path d=\"M0 0h24v24H0V0z\" fill=\"none\"/>\n",
       "    <path d=\"M18.56 5.44l.94 2.06.94-2.06 2.06-.94-2.06-.94-.94-2.06-.94 2.06-2.06.94zm-11 1L8.5 8.5l.94-2.06 2.06-.94-2.06-.94L8.5 2.5l-.94 2.06-2.06.94zm10 10l.94 2.06.94-2.06 2.06-.94-2.06-.94-.94-2.06-.94 2.06-2.06.94z\"/><path d=\"M17.41 7.96l-1.37-1.37c-.4-.4-.92-.59-1.43-.59-.52 0-1.04.2-1.43.59L10.3 9.45l-7.72 7.72c-.78.78-.78 2.05 0 2.83L4 21.41c.39.39.9.59 1.41.59.51 0 1.02-.2 1.41-.59l7.78-7.78 2.81-2.81c.8-.78.8-2.07 0-2.86zM5.41 20L4 18.59l7.72-7.72 1.47 1.35L5.41 20z\"/>\n",
       "  </svg>\n",
       "      </button>\n",
       "      \n",
       "  <style>\n",
       "    .colab-df-container {\n",
       "      display:flex;\n",
       "      flex-wrap:wrap;\n",
       "      gap: 12px;\n",
       "    }\n",
       "\n",
       "    .colab-df-convert {\n",
       "      background-color: #E8F0FE;\n",
       "      border: none;\n",
       "      border-radius: 50%;\n",
       "      cursor: pointer;\n",
       "      display: none;\n",
       "      fill: #1967D2;\n",
       "      height: 32px;\n",
       "      padding: 0 0 0 0;\n",
       "      width: 32px;\n",
       "    }\n",
       "\n",
       "    .colab-df-convert:hover {\n",
       "      background-color: #E2EBFA;\n",
       "      box-shadow: 0px 1px 2px rgba(60, 64, 67, 0.3), 0px 1px 3px 1px rgba(60, 64, 67, 0.15);\n",
       "      fill: #174EA6;\n",
       "    }\n",
       "\n",
       "    [theme=dark] .colab-df-convert {\n",
       "      background-color: #3B4455;\n",
       "      fill: #D2E3FC;\n",
       "    }\n",
       "\n",
       "    [theme=dark] .colab-df-convert:hover {\n",
       "      background-color: #434B5C;\n",
       "      box-shadow: 0px 1px 3px 1px rgba(0, 0, 0, 0.15);\n",
       "      filter: drop-shadow(0px 1px 2px rgba(0, 0, 0, 0.3));\n",
       "      fill: #FFFFFF;\n",
       "    }\n",
       "  </style>\n",
       "\n",
       "      <script>\n",
       "        const buttonEl =\n",
       "          document.querySelector('#df-b19e391f-f497-4ea3-9e52-e18e6a04030f button.colab-df-convert');\n",
       "        buttonEl.style.display =\n",
       "          google.colab.kernel.accessAllowed ? 'block' : 'none';\n",
       "\n",
       "        async function convertToInteractive(key) {\n",
       "          const element = document.querySelector('#df-b19e391f-f497-4ea3-9e52-e18e6a04030f');\n",
       "          const dataTable =\n",
       "            await google.colab.kernel.invokeFunction('convertToInteractive',\n",
       "                                                     [key], {});\n",
       "          if (!dataTable) return;\n",
       "\n",
       "          const docLinkHtml = 'Like what you see? Visit the ' +\n",
       "            '<a target=\"_blank\" href=https://colab.research.google.com/notebooks/data_table.ipynb>data table notebook</a>'\n",
       "            + ' to learn more about interactive tables.';\n",
       "          element.innerHTML = '';\n",
       "          dataTable['output_type'] = 'display_data';\n",
       "          await google.colab.output.renderOutput(dataTable, element);\n",
       "          const docLink = document.createElement('div');\n",
       "          docLink.innerHTML = docLinkHtml;\n",
       "          element.appendChild(docLink);\n",
       "        }\n",
       "      </script>\n",
       "    </div>\n",
       "  </div>\n",
       "  "
      ],
      "text/plain": [
       "                                                  label\n",
       "0     Caroline Ingalls is a ZOMBIE!! -- New subreddi...\n",
       "1     Caroline Ingalls is a ZOMBIE!! -- New subreddi...\n",
       "2     Caroline Ingalls is a ZOMBIE!! -- New subreddi...\n",
       "3     Caroline Ingalls is a ZOMBIE!! -- New subreddi...\n",
       "4     Caroline Ingalls is a ZOMBIE!! -- New subreddi...\n",
       "...                                                 ...\n",
       "2049                                     Elpedroym0.png\n",
       "2050                                     Elpedroym1.png\n",
       "2051                                     Elpedroym2.png\n",
       "2052                                     Elpedroym3.png\n",
       "2053                       FRIENDS WITH BENEFITS..0.png\n",
       "\n",
       "[2054 rows x 1 columns]"
      ]
     },
     "execution_count": 36,
     "metadata": {},
     "output_type": "execute_result"
    }
   ],
   "source": [
    "y"
   ]
  },
  {
   "cell_type": "markdown",
   "metadata": {
    "id": "-8Qe5NYGw-K7"
   },
   "source": [
    "## Data"
   ]
  },
  {
   "cell_type": "code",
   "execution_count": 110,
   "metadata": {
    "id": "XOCpsYq80-yv"
   },
   "outputs": [],
   "source": [
    "class GifDataset(Dataset):\n",
    "    \"\"\"Gif Caption dataset.\"\"\"\n",
    "\n",
    "    def __init__(self, csv_file, root_dir, transform=None):\n",
    "        \"\"\"\n",
    "        Args:\n",
    "            csv_file (string): Path to the csv file with annotations.\n",
    "            root_dir (string): Directory with all the images.\n",
    "            transform (callable, optional): Optional transform to be applied\n",
    "                on a sample.\n",
    "        \"\"\"\n",
    "        self.labels = pd.read_csv(csv_file)\n",
    "        self.root_dir = root_dir\n",
    "        self.transform = transform\n",
    "\n",
    "    def __len__(self):\n",
    "        return len(self.labels)\n",
    "\n",
    "    def __getitem__(self, idx):\n",
    "        print(idx)\n",
    "        if torch.is_tensor(idx):\n",
    "            idx = idx.tolist()\n",
    "\n",
    "        img_name = os.path.join(self.root_dir,\n",
    "                                self.labels.iloc[idx, 0])\n",
    "\n",
    "        image = io.imread(img_name)\n",
    "        \n",
    "        labels = self.labels.iloc[idx, 0]\n",
    "        labels = np.array([labels])\n",
    "        \n",
    "        # labels = labels.astype('float').reshape(-1, 2)\n",
    "        sample = {'image': image, 'labels': labels, 'idx': idx}\n",
    "        \n",
    "        if self.transform:\n",
    "            # print(sample['labels'].shape)\n",
    "            sample = self.transform(sample)\n",
    "            \n",
    "        return sample"
   ]
  },
  {
   "cell_type": "code",
   "execution_count": 119,
   "metadata": {
    "id": "j9wVVRAmaWcx"
   },
   "outputs": [],
   "source": [
    "class Rescale(object):\n",
    "    \"\"\"Rescale the image in a sample to a given size.\n",
    "\n",
    "    Args:\n",
    "        output_size (tuple or int): Desired output size. If tuple, output is\n",
    "            matched to output_size. If int, smaller of image edges is matched\n",
    "            to output_size keeping aspect ratio the same.\n",
    "    \"\"\"\n",
    "\n",
    "    def __init__(self, output_size):\n",
    "        assert isinstance(output_size, (int, tuple))\n",
    "        self.output_size = output_size\n",
    "\n",
    "    def __call__(self, sample):\n",
    "        image, idx = sample['image'], sample['idx']\n",
    "\n",
    "        h, w = image.shape[:2]\n",
    "        if isinstance(self.output_size, int):\n",
    "            if h > w:\n",
    "                new_h, new_w = self.output_size * h / w, self.output_size\n",
    "            else:\n",
    "                new_h, new_w = self.output_size, self.output_size * w / h\n",
    "        else:\n",
    "            new_h, new_w = self.output_size\n",
    "\n",
    "        new_h, new_w = int(new_h), int(new_w)\n",
    "\n",
    "        img = transform.resize(image, (new_h, new_w))\n",
    "\n",
    "        # h and w are swapped for landmarks because for images,\n",
    "        # x and y axes are axis 1 and 0 respectively\n",
    "        # landmarks = landmarks * [new_w / w, new_h / h]\n",
    "        # print(landmarks)\n",
    "\n",
    "        return {'image': img, 'idx': idx}\n",
    "\n",
    "\n",
    "class ToTensor(object):\n",
    "    \"\"\"Convert ndarrays in sample to Tensors.\"\"\"\n",
    "\n",
    "    def __call__(self, sample):\n",
    "        image, idx = sample['image'], sample['idx']\n",
    "\n",
    "        # swap color axis because\n",
    "        # numpy image: H x W x C\n",
    "        # torch image: C X H X W\n",
    "        image = image.transpose((2, 0, 1))\n",
    "        # print(landmarks)\n",
    "        # return {'image': torch.from_numpy(image),\n",
    "        #         'labels': landmarks}\n",
    "        # print(landmarks)\n",
    "        return {'image': torch.from_numpy(image), 'idx': idx}\n",
    "\n",
    "def show_gifs(image, labels):\n",
    "    \"\"\"Show image with landmarks\"\"\"\n",
    "    plt.imshow(image)\n",
    "    plt.scatter(labels[:, 0], labels[:, 1], s=10, marker='.', c='r')\n",
    "    plt.pause(0.001)\n",
    "\n",
    "\n",
    "scale = Rescale(512)\n",
    "composed = transforms.Compose([Rescale((224,224))])"
   ]
  },
  {
   "cell_type": "code",
   "execution_count": 120,
   "metadata": {
    "id": "NQqY_CU4crOF"
   },
   "outputs": [],
   "source": [
    "image_path = '/content/drive/MyDrive/CS640 Project/Processed Frames'\n",
    "gif_data = GifDataset(csv_file='/content/drive/MyDrive/CS640 Project/Y.csv',\n",
    "                                    root_dir= image_path)"
   ]
  },
  {
   "cell_type": "code",
   "execution_count": 121,
   "metadata": {
    "id": "3cGmDAYqg8wy"
   },
   "outputs": [],
   "source": [
    "transformed_dataset = GifDataset(csv_file='/content/drive/MyDrive/CS640 Project/Y.csv',\n",
    "                                           root_dir=image_path,\n",
    "                                           transform=transforms.Compose([\n",
    "                                               ToTensor()\n",
    "                                           ]))"
   ]
  },
  {
   "cell_type": "code",
   "execution_count": 122,
   "metadata": {
    "execution": {
     "iopub.execute_input": "2021-12-27T00:07:54.398703Z",
     "iopub.status.busy": "2021-12-27T00:07:54.398451Z",
     "iopub.status.idle": "2021-12-27T00:07:57.898175Z",
     "shell.execute_reply": "2021-12-27T00:07:57.897421Z",
     "shell.execute_reply.started": "2021-12-27T00:07:54.39867Z"
    },
    "id": "3QAzgwTdw-K8"
   },
   "outputs": [],
   "source": [
    "train_len = int(TRAIN_PCT * len(transformed_dataset))\n",
    "train_data, valid_data = random_split(transformed_dataset, [train_len, len(transformed_dataset) - train_len])\n",
    "train_dl = DataLoader(\n",
    "    train_data, \n",
    "    BATCH_SIZE, \n",
    "    pin_memory=True, \n",
    "    shuffle=True, \n",
    "    num_workers=1, \n",
    "    drop_last=True\n",
    ")\n",
    "valid_dl = DataLoader(\n",
    "    valid_data, \n",
    "    BATCH_SIZE, \n",
    "    pin_memory=True, \n",
    "    shuffle=False, \n",
    "    num_workers=1, \n",
    "    drop_last=False\n",
    ")\n",
    "\n",
    "# # images, captions = next(iter(train_dl))\n",
    "# images, idx = next(iter(train_dl))\n",
    "# images = images\n",
    "# images.shape, images.min(), images.max(), images.mean(), images.std()"
   ]
  },
  {
   "cell_type": "code",
   "execution_count": 123,
   "metadata": {
    "colab": {
     "base_uri": "https://localhost:8080/",
     "height": 728
    },
    "id": "a8urz_dnutEY",
    "outputId": "9005bed9-fb3f-4019-c49c-ec54dcf96468"
   },
   "outputs": [
    {
     "name": "stdout",
     "output_type": "stream",
     "text": [
      "474\n",
      "1350\n",
      "847\n",
      "1107\n",
      "723\n",
      "727\n",
      "1954\n",
      "1437\n",
      "1244\n",
      "1014\n"
     ]
    },
    {
     "ename": "RuntimeError",
     "evalue": "ignored",
     "output_type": "error",
     "traceback": [
      "\u001b[0;31m---------------------------------------------------------------------------\u001b[0m",
      "\u001b[0;31mRuntimeError\u001b[0m                              Traceback (most recent call last)",
      "\u001b[0;32m<ipython-input-123-fd65af589529>\u001b[0m in \u001b[0;36m<module>\u001b[0;34m\u001b[0m\n\u001b[0;32m----> 1\u001b[0;31m \u001b[0;32mfor\u001b[0m \u001b[0mi\u001b[0m \u001b[0;32min\u001b[0m \u001b[0mtrain_dl\u001b[0m\u001b[0;34m:\u001b[0m\u001b[0;34m\u001b[0m\u001b[0;34m\u001b[0m\u001b[0m\n\u001b[0m\u001b[1;32m      2\u001b[0m   \u001b[0mimages\u001b[0m \u001b[0;34m=\u001b[0m \u001b[0mi\u001b[0m\u001b[0;34m[\u001b[0m\u001b[0;34m'image'\u001b[0m\u001b[0;34m]\u001b[0m\u001b[0;34m\u001b[0m\u001b[0;34m\u001b[0m\u001b[0m\n\u001b[1;32m      3\u001b[0m   \u001b[0midx\u001b[0m \u001b[0;34m=\u001b[0m \u001b[0mi\u001b[0m\u001b[0;34m[\u001b[0m\u001b[0;34m'idx'\u001b[0m\u001b[0;34m]\u001b[0m\u001b[0;34m\u001b[0m\u001b[0;34m\u001b[0m\u001b[0m\n",
      "\u001b[0;32m/usr/local/lib/python3.7/dist-packages/torch/utils/data/dataloader.py\u001b[0m in \u001b[0;36m__next__\u001b[0;34m(self)\u001b[0m\n\u001b[1;32m    679\u001b[0m                 \u001b[0;31m# TODO(https://github.com/pytorch/pytorch/issues/76750)\u001b[0m\u001b[0;34m\u001b[0m\u001b[0;34m\u001b[0m\u001b[0;34m\u001b[0m\u001b[0m\n\u001b[1;32m    680\u001b[0m                 \u001b[0mself\u001b[0m\u001b[0;34m.\u001b[0m\u001b[0m_reset\u001b[0m\u001b[0;34m(\u001b[0m\u001b[0;34m)\u001b[0m  \u001b[0;31m# type: ignore[call-arg]\u001b[0m\u001b[0;34m\u001b[0m\u001b[0;34m\u001b[0m\u001b[0m\n\u001b[0;32m--> 681\u001b[0;31m             \u001b[0mdata\u001b[0m \u001b[0;34m=\u001b[0m \u001b[0mself\u001b[0m\u001b[0;34m.\u001b[0m\u001b[0m_next_data\u001b[0m\u001b[0;34m(\u001b[0m\u001b[0;34m)\u001b[0m\u001b[0;34m\u001b[0m\u001b[0;34m\u001b[0m\u001b[0m\n\u001b[0m\u001b[1;32m    682\u001b[0m             \u001b[0mself\u001b[0m\u001b[0;34m.\u001b[0m\u001b[0m_num_yielded\u001b[0m \u001b[0;34m+=\u001b[0m \u001b[0;36m1\u001b[0m\u001b[0;34m\u001b[0m\u001b[0;34m\u001b[0m\u001b[0m\n\u001b[1;32m    683\u001b[0m             \u001b[0;32mif\u001b[0m \u001b[0mself\u001b[0m\u001b[0;34m.\u001b[0m\u001b[0m_dataset_kind\u001b[0m \u001b[0;34m==\u001b[0m \u001b[0m_DatasetKind\u001b[0m\u001b[0;34m.\u001b[0m\u001b[0mIterable\u001b[0m \u001b[0;32mand\u001b[0m\u001b[0;31m \u001b[0m\u001b[0;31m\\\u001b[0m\u001b[0;34m\u001b[0m\u001b[0;34m\u001b[0m\u001b[0m\n",
      "\u001b[0;32m/usr/local/lib/python3.7/dist-packages/torch/utils/data/dataloader.py\u001b[0m in \u001b[0;36m_next_data\u001b[0;34m(self)\u001b[0m\n\u001b[1;32m   1374\u001b[0m             \u001b[0;32melse\u001b[0m\u001b[0;34m:\u001b[0m\u001b[0;34m\u001b[0m\u001b[0;34m\u001b[0m\u001b[0m\n\u001b[1;32m   1375\u001b[0m                 \u001b[0;32mdel\u001b[0m \u001b[0mself\u001b[0m\u001b[0;34m.\u001b[0m\u001b[0m_task_info\u001b[0m\u001b[0;34m[\u001b[0m\u001b[0midx\u001b[0m\u001b[0;34m]\u001b[0m\u001b[0;34m\u001b[0m\u001b[0;34m\u001b[0m\u001b[0m\n\u001b[0;32m-> 1376\u001b[0;31m                 \u001b[0;32mreturn\u001b[0m \u001b[0mself\u001b[0m\u001b[0;34m.\u001b[0m\u001b[0m_process_data\u001b[0m\u001b[0;34m(\u001b[0m\u001b[0mdata\u001b[0m\u001b[0;34m)\u001b[0m\u001b[0;34m\u001b[0m\u001b[0;34m\u001b[0m\u001b[0m\n\u001b[0m\u001b[1;32m   1377\u001b[0m \u001b[0;34m\u001b[0m\u001b[0m\n\u001b[1;32m   1378\u001b[0m     \u001b[0;32mdef\u001b[0m \u001b[0m_try_put_index\u001b[0m\u001b[0;34m(\u001b[0m\u001b[0mself\u001b[0m\u001b[0;34m)\u001b[0m\u001b[0;34m:\u001b[0m\u001b[0;34m\u001b[0m\u001b[0;34m\u001b[0m\u001b[0m\n",
      "\u001b[0;32m/usr/local/lib/python3.7/dist-packages/torch/utils/data/dataloader.py\u001b[0m in \u001b[0;36m_process_data\u001b[0;34m(self, data)\u001b[0m\n\u001b[1;32m   1400\u001b[0m         \u001b[0mself\u001b[0m\u001b[0;34m.\u001b[0m\u001b[0m_try_put_index\u001b[0m\u001b[0;34m(\u001b[0m\u001b[0;34m)\u001b[0m\u001b[0;34m\u001b[0m\u001b[0;34m\u001b[0m\u001b[0m\n\u001b[1;32m   1401\u001b[0m         \u001b[0;32mif\u001b[0m \u001b[0misinstance\u001b[0m\u001b[0;34m(\u001b[0m\u001b[0mdata\u001b[0m\u001b[0;34m,\u001b[0m \u001b[0mExceptionWrapper\u001b[0m\u001b[0;34m)\u001b[0m\u001b[0;34m:\u001b[0m\u001b[0;34m\u001b[0m\u001b[0;34m\u001b[0m\u001b[0m\n\u001b[0;32m-> 1402\u001b[0;31m             \u001b[0mdata\u001b[0m\u001b[0;34m.\u001b[0m\u001b[0mreraise\u001b[0m\u001b[0;34m(\u001b[0m\u001b[0;34m)\u001b[0m\u001b[0;34m\u001b[0m\u001b[0;34m\u001b[0m\u001b[0m\n\u001b[0m\u001b[1;32m   1403\u001b[0m         \u001b[0;32mreturn\u001b[0m \u001b[0mdata\u001b[0m\u001b[0;34m\u001b[0m\u001b[0;34m\u001b[0m\u001b[0m\n\u001b[1;32m   1404\u001b[0m \u001b[0;34m\u001b[0m\u001b[0m\n",
      "\u001b[0;32m/usr/local/lib/python3.7/dist-packages/torch/_utils.py\u001b[0m in \u001b[0;36mreraise\u001b[0;34m(self)\u001b[0m\n\u001b[1;32m    459\u001b[0m             \u001b[0;31m# instantiate since we don't know how to\u001b[0m\u001b[0;34m\u001b[0m\u001b[0;34m\u001b[0m\u001b[0;34m\u001b[0m\u001b[0m\n\u001b[1;32m    460\u001b[0m             \u001b[0;32mraise\u001b[0m \u001b[0mRuntimeError\u001b[0m\u001b[0;34m(\u001b[0m\u001b[0mmsg\u001b[0m\u001b[0;34m)\u001b[0m \u001b[0;32mfrom\u001b[0m \u001b[0;32mNone\u001b[0m\u001b[0;34m\u001b[0m\u001b[0;34m\u001b[0m\u001b[0m\n\u001b[0;32m--> 461\u001b[0;31m         \u001b[0;32mraise\u001b[0m \u001b[0mexception\u001b[0m\u001b[0;34m\u001b[0m\u001b[0;34m\u001b[0m\u001b[0m\n\u001b[0m\u001b[1;32m    462\u001b[0m \u001b[0;34m\u001b[0m\u001b[0m\n\u001b[1;32m    463\u001b[0m \u001b[0;34m\u001b[0m\u001b[0m\n",
      "\u001b[0;31mRuntimeError\u001b[0m: Caught RuntimeError in DataLoader worker process 0.\nOriginal Traceback (most recent call last):\n  File \"/usr/local/lib/python3.7/dist-packages/torch/utils/data/_utils/worker.py\", line 302, in _worker_loop\n    data = fetcher.fetch(index)\n  File \"/usr/local/lib/python3.7/dist-packages/torch/utils/data/_utils/fetch.py\", line 52, in fetch\n    return self.collate_fn(data)\n  File \"/usr/local/lib/python3.7/dist-packages/torch/utils/data/_utils/collate.py\", line 160, in default_collate\n    return elem_type({key: default_collate([d[key] for d in batch]) for key in elem})\n  File \"/usr/local/lib/python3.7/dist-packages/torch/utils/data/_utils/collate.py\", line 160, in <dictcomp>\n    return elem_type({key: default_collate([d[key] for d in batch]) for key in elem})\n  File \"/usr/local/lib/python3.7/dist-packages/torch/utils/data/_utils/collate.py\", line 140, in default_collate\n    out = elem.new(storage).resize_(len(batch), *list(elem.size()))\nRuntimeError: Trying to resize storage that is not resizable\n"
     ]
    }
   ],
   "source": [
    "for i in train_dl:\n",
    "  images = i['image']\n",
    "  idx = i['idx']"
   ]
  },
  {
   "cell_type": "code",
   "execution_count": 126,
   "metadata": {
    "colab": {
     "base_uri": "https://localhost:8080/"
    },
    "id": "PnGkXh9jwDec",
    "outputId": "8fbee81a-f42c-46b1-ee85-89c889e63cdc"
   },
   "outputs": [
    {
     "name": "stdout",
     "output_type": "stream",
     "text": [
      "1014\n"
     ]
    },
    {
     "data": {
      "text/plain": [
       "{'image': tensor([[[255, 255, 255,  ..., 255, 255, 255],\n",
       "          [255, 255, 255,  ..., 255, 255, 255],\n",
       "          [255, 255, 255,  ..., 255, 255, 255],\n",
       "          ...,\n",
       "          [255, 255, 255,  ..., 255, 255, 255],\n",
       "          [255, 255, 255,  ..., 255, 255, 255],\n",
       "          [255, 255, 255,  ..., 255, 255, 255]],\n",
       " \n",
       "         [[  0,   0,   0,  ...,   0,   0,   0],\n",
       "          [  0,   0,   0,  ...,   0,   0,   0],\n",
       "          [  0,   0,   0,  ...,   0,   0,   0],\n",
       "          ...,\n",
       "          [  0,   0,   0,  ...,   0,   0,   0],\n",
       "          [  0,   0,   0,  ...,   0,   0,   0],\n",
       "          [  0,   0,   0,  ...,   0,   0,   0]],\n",
       " \n",
       "         [[192, 192, 192,  ..., 192, 192, 192],\n",
       "          [192, 192, 192,  ..., 192, 192, 192],\n",
       "          [192, 192, 192,  ..., 192, 192, 192],\n",
       "          ...,\n",
       "          [192, 192, 192,  ..., 192, 192, 192],\n",
       "          [192, 192, 192,  ..., 192, 192, 192],\n",
       "          [192, 192, 192,  ..., 192, 192, 192]],\n",
       " \n",
       "         [[  0,   0,   0,  ...,   0,   0,   0],\n",
       "          [  0,   0,   0,  ...,   0,   0,   0],\n",
       "          [  0,   0,   0,  ...,   0,   0,   0],\n",
       "          ...,\n",
       "          [  0,   0,   0,  ...,   0,   0,   0],\n",
       "          [  0,   0,   0,  ...,   0,   0,   0],\n",
       "          [  0,   0,   0,  ...,   0,   0,   0]]], dtype=torch.uint8),\n",
       " 'idx': 1014}"
      ]
     },
     "execution_count": 126,
     "metadata": {},
     "output_type": "execute_result"
    }
   ],
   "source": [
    "transformed_dataset[1014]"
   ]
  },
  {
   "cell_type": "code",
   "execution_count": null,
   "metadata": {
    "id": "6mKLtd1sx9Gp"
   },
   "outputs": [],
   "source": []
  },
  {
   "cell_type": "code",
   "execution_count": null,
   "metadata": {
    "id": "MNlfXV_krlw_"
   },
   "outputs": [],
   "source": [
    "j = 0\n",
    "for i in transformed_dataset:\n",
    "    print(i)"
   ]
  },
  {
   "cell_type": "code",
   "execution_count": 78,
   "metadata": {
    "colab": {
     "base_uri": "https://localhost:8080/",
     "height": 35
    },
    "id": "KayXd7alm23j",
    "outputId": "22083353-f482-4c36-c6c9-97c551196b10"
   },
   "outputs": [
    {
     "data": {
      "application/vnd.google.colaboratory.intrinsic+json": {
       "type": "string"
      },
      "text/plain": [
       "'idx'"
      ]
     },
     "execution_count": 78,
     "metadata": {},
     "output_type": "execute_result"
    }
   ],
   "source": [
    "idx"
   ]
  },
  {
   "cell_type": "code",
   "execution_count": 77,
   "metadata": {
    "colab": {
     "base_uri": "https://localhost:8080/",
     "height": 35
    },
    "id": "XEqkMIJerL6L",
    "outputId": "2a48f845-614c-4ce2-c868-3a6f19c9e85c"
   },
   "outputs": [
    {
     "data": {
      "application/vnd.google.colaboratory.intrinsic+json": {
       "type": "string"
      },
      "text/plain": [
       "'a'"
      ]
     },
     "execution_count": 77,
     "metadata": {},
     "output_type": "execute_result"
    }
   ],
   "source": [
    "n = {'a':[1,2], 'b': [4,5]}\n",
    "next(iter(n))"
   ]
  },
  {
   "cell_type": "code",
   "execution_count": 65,
   "metadata": {
    "colab": {
     "base_uri": "https://localhost:8080/"
    },
    "id": "I1HSmz3SqMfC",
    "outputId": "c61b409c-069e-4ac4-8204-efbf0e26aa61"
   },
   "outputs": [
    {
     "data": {
      "text/plain": [
       "array(['Neighbor kids causing mischief...136.png'], dtype='<U40')"
      ]
     },
     "execution_count": 65,
     "metadata": {},
     "output_type": "execute_result"
    }
   ],
   "source": [
    "np.array(['Neighbor kids causing mischief...136.png'])"
   ]
  },
  {
   "cell_type": "markdown",
   "metadata": {
    "id": "6k_rDpFOw-K8"
   },
   "source": [
    "## Model"
   ]
  },
  {
   "cell_type": "code",
   "execution_count": null,
   "metadata": {
    "execution": {
     "iopub.execute_input": "2021-12-27T00:07:57.900281Z",
     "iopub.status.busy": "2021-12-27T00:07:57.899853Z",
     "iopub.status.idle": "2021-12-27T00:08:30.49721Z",
     "shell.execute_reply": "2021-12-27T00:08:30.49646Z",
     "shell.execute_reply.started": "2021-12-27T00:07:57.900241Z"
    },
    "id": "X0b1Jh71w-K9"
   },
   "outputs": [],
   "source": [
    "# make sure GPT2 appends EOS in begin and end\n",
    "def build_inputs_with_special_tokens(self, token_ids_0, token_ids_1=None):\n",
    "    outputs = [self.bos_token_id] + token_ids_0 + [self.eos_token_id]\n",
    "    return outputs\n",
    "    \n",
    "GPT2Tokenizer.build_inputs_with_special_tokens = build_inputs_with_special_tokens\n",
    "gpt2_tokenizer = GPT2Tokenizer.from_pretrained(DISTIL_GPT2)\n",
    "# set pad_token_id to unk_token_id -> be careful here as unk_token_id == eos_token_id == bos_token_id\n",
    "gpt2_tokenizer.pad_token = gpt2_tokenizer.unk_token\n",
    "\n",
    "gpt2_tokenizer_fn = lambda x: gpt2_tokenizer(\n",
    "    x,\n",
    "    max_length=MAX_TEXT_LENGTH,\n",
    "    truncation=True,\n",
    "    padding=True,\n",
    "    return_tensors=\"pt\",\n",
    ")\n",
    "\n",
    "vit2gpt2 = EncoderDecoderModel.from_encoder_decoder_pretrained(VIT_MODEL, DISTIL_GPT2)"
   ]
  },
  {
   "cell_type": "markdown",
   "metadata": {
    "id": "4JP-egZFw-K9"
   },
   "source": [
    "## Nucleus Sampling\n",
    "[Paper](https://arxiv.org/pdf/1904.09751.pdf)"
   ]
  },
  {
   "cell_type": "code",
   "execution_count": null,
   "metadata": {
    "execution": {
     "iopub.execute_input": "2021-12-27T00:24:51.921354Z",
     "iopub.status.busy": "2021-12-27T00:24:51.921088Z",
     "iopub.status.idle": "2021-12-27T00:24:51.93938Z",
     "shell.execute_reply": "2021-12-27T00:24:51.938484Z",
     "shell.execute_reply.started": "2021-12-27T00:24:51.921325Z"
    },
    "id": "bPlfMxLow-K9"
   },
   "outputs": [],
   "source": [
    "def top_k_top_p_filtering(\n",
    "    next_token_logits: torch.FloatTensor,\n",
    "    top_k: Optional[float]=None, \n",
    "    top_p: Optional[float]=None,\n",
    "    device: Union[str, torch.device]=\"cpu\",\n",
    ") -> torch.FloatTensor:\n",
    "    if top_k is None:\n",
    "        top_k = next_token_logits.shape[-1]\n",
    "    if top_p is None:\n",
    "        top_p = 1.0\n",
    "        \n",
    "    p, largest_p_idx = F.softmax(next_token_logits, dim=-1).topk(top_k, dim=-1)\n",
    "    cumulative_p = p.cumsum(dim=-1)\n",
    "    threshold_repeated = top_p + torch.zeros((len(p),1)).to(device)\n",
    "    idx = torch.searchsorted(cumulative_p, threshold_repeated).clip(max=top_k-1).squeeze()\n",
    "    cutoffs = cumulative_p[torch.arange(len(cumulative_p)), idx]\n",
    "    censored_p = (cumulative_p <= cutoffs[:, None]) * p\n",
    "    renormalized_p = censored_p / censored_p.sum(dim=-1, keepdims=True)\n",
    "    \n",
    "    final_p = torch.zeros_like(next_token_logits)\n",
    "    row_idx = torch.arange(len(p)).unsqueeze(1).repeat(1,top_k).to(device)\n",
    "    final_p[row_idx, largest_p_idx] = renormalized_p.to(final_p.dtype)\n",
    "\n",
    "    return final_p\n",
    "\n",
    "def generate_sentence_from_image(model, encoder_outputs, tokenizer, max_text_length: int, device)-> List[str]:\n",
    "    generated_so_far = torch.LongTensor([[tokenizer.bos_token_id]]*len(encoder_outputs.last_hidden_state)).to(device)\n",
    "    with torch.no_grad():\n",
    "        for _ in tqdm(range(max_text_length)):\n",
    "            attention_mask = torch.ones_like(generated_so_far)\n",
    "            decoder_out = model(\n",
    "                decoder_input_ids=generated_so_far, \n",
    "                decoder_attention_mask=attention_mask,\n",
    "                encoder_outputs=encoder_outputs\n",
    "            )\n",
    "\n",
    "            next_token_logits = decoder_out[\"logits\"][:, -1, :]\n",
    "            filtered_p = top_k_top_p_filtering(next_token_logits, top_k=TOP_K, top_p=TOP_P, device=device)\n",
    "            next_token = torch.multinomial(filtered_p, num_samples=1)\n",
    "            generated_so_far = torch.cat((generated_so_far, next_token), dim=1)\n",
    "\n",
    "    return [tokenizer.decode(coded_sentence) for coded_sentence in generated_so_far]"
   ]
  },
  {
   "cell_type": "markdown",
   "metadata": {
    "id": "8OLD0lAZw-K-"
   },
   "source": [
    "## Training Module (PyTorch Lightning)"
   ]
  },
  {
   "cell_type": "code",
   "execution_count": null,
   "metadata": {
    "execution": {
     "iopub.execute_input": "2021-12-27T00:25:24.081999Z",
     "iopub.status.busy": "2021-12-27T00:25:24.081677Z",
     "iopub.status.idle": "2021-12-27T00:25:24.104356Z",
     "shell.execute_reply": "2021-12-27T00:25:24.103482Z",
     "shell.execute_reply.started": "2021-12-27T00:25:24.081963Z"
    },
    "id": "MNlT5XFRw-K-"
   },
   "outputs": [],
   "source": [
    "class LightningModule(pl.LightningModule):\n",
    "    def __init__(\n",
    "        self,\n",
    "        model: nn.Module,\n",
    "        tokenizer,\n",
    "        lr: float,\n",
    "    ):\n",
    "        super().__init__()\n",
    "        self.model = model\n",
    "        self.tokenizer = tokenizer\n",
    "        self.lr = lr\n",
    "        \n",
    "        for name, param in self.model.named_parameters():\n",
    "            if \"crossattention\" not in name:\n",
    "                param.requires_grad = False\n",
    "        \n",
    "    def common_step(self, batch: Tuple[torch.FloatTensor, List[str]]) -> torch.FloatTensor:\n",
    "        images, captions = batch\n",
    "        tokenized_captions = {\n",
    "            k: v.to(self.device) for k, v in \n",
    "            self.tokenizer(\n",
    "                captions,\n",
    "                max_length=MAX_TEXT_LENGTH,\n",
    "                truncation=True,\n",
    "                padding=True,\n",
    "                return_tensors=\"pt\",\n",
    "            ).items()\n",
    "        }\n",
    "        labels = tokenized_captions[\"input_ids\"].clone()\n",
    "        labels[tokenized_captions[\"attention_mask\"]==0] = LABEL_MASK\n",
    "        encoder_outputs = self.model.encoder(pixel_values=images)\n",
    "        outputs = self.model(\n",
    "            encoder_outputs=encoder_outputs,\n",
    "            decoder_input_ids=tokenized_captions[\"input_ids\"],\n",
    "            decoder_attention_mask=tokenized_captions[\"attention_mask\"],\n",
    "            labels=labels,\n",
    "            return_dict=True,\n",
    "        )\n",
    "        \n",
    "        return outputs[\"loss\"]\n",
    "    \n",
    "    def training_step(self, batch: Tuple[torch.FloatTensor, List[str]], batch_idx: int) -> torch.FloatTensor:\n",
    "        loss = self.common_step(batch)\n",
    "        self.log(name=\"Training loss\", value=loss, on_step=True, on_epoch=True)\n",
    "        \n",
    "        return loss\n",
    "        \n",
    "    def validation_step(self, batch: Tuple[torch.FloatTensor, List[str]], batch_idx: int):\n",
    "        loss = self.common_step(batch)\n",
    "        self.log(name=\"Validation loss\", value=loss, on_step=True, on_epoch=True)\n",
    "\n",
    "        images, actual_sentences = batch\n",
    "        \n",
    "        if batch_idx == 0:\n",
    "            encoder_outputs = self.model.encoder(pixel_values=images.to(self.device))\n",
    "            generated_sentences = generate_sentence_from_image(\n",
    "                self.model, \n",
    "                encoder_outputs, \n",
    "                self.tokenizer, \n",
    "                MAX_TEXT_LENGTH,\n",
    "                self.device\n",
    "            )\n",
    "            images = [wandb.Image(transforms.ToPILImage()(descale(image))) for image in images]\n",
    "            data = list(map(list, zip(images, actual_sentences, generated_sentences)))\n",
    "            columns = [\"Images\", \"Actual Sentence\", \"Generated Sentence\"]\n",
    "            table = wandb.Table(data=data, columns=columns)\n",
    "            self.logger.experiment.log({f\"epoch {self.current_epoch} results\": table})\n",
    "                        \n",
    "    def on_after_backward(self):\n",
    "        if self.trainer.global_step % 50 == 0:  # don't make the tf file huge\n",
    "            for name, param in self.model.named_parameters():\n",
    "                if \"weight\" in name and not \"norm\" in name and param.requires_grad:\n",
    "                    self.logger.experiment.log(\n",
    "                        {f\"{name}_grad\": wandb.Histogram(param.grad.detach().cpu())}\n",
    "                    )\n",
    "                    self.logger.experiment.log(\n",
    "                        {f\"{name}\": wandb.Histogram(param.detach().cpu())}\n",
    "                    )\n",
    "\n",
    "    def configure_optimizers(self) -> torch.optim.Optimizer:\n",
    "        return torch.optim.Adam(self.model.parameters(), lr=self.lr)\n",
    "            "
   ]
  },
  {
   "cell_type": "code",
   "execution_count": null,
   "metadata": {
    "execution": {
     "iopub.execute_input": "2021-12-27T00:25:27.303776Z",
     "iopub.status.busy": "2021-12-27T00:25:27.303497Z",
     "iopub.status.idle": "2021-12-27T00:25:36.522446Z",
     "shell.execute_reply": "2021-12-27T00:25:36.521481Z",
     "shell.execute_reply.started": "2021-12-27T00:25:27.303745Z"
    },
    "id": "QMnscejQw-K-"
   },
   "outputs": [],
   "source": [
    "!mkdir -p /kaggle/working/logs\n",
    "lightning_module = LightningModule(\n",
    "    vit2gpt2,\n",
    "    gpt2_tokenizer,\n",
    "    LR\n",
    ")\n",
    "\n",
    "trainer = pl.Trainer(\n",
    "    max_epochs=EPOCHS,\n",
    "    gpus=torch.cuda.device_count(),\n",
    "    gradient_clip_val=1.0,\n",
    "    logger=WandbLogger(\"Frozen\", \"/kaggle/working/logs/\", project=\"Vit2GPT2\"),\n",
    "    precision=16,\n",
    "    num_sanity_val_steps=0,\n",
    ")\n",
    "trainer.fit(lightning_module, train_dl, valid_dl)"
   ]
  },
  {
   "cell_type": "code",
   "execution_count": null,
   "metadata": {
    "id": "--mpg97Nw-K-"
   },
   "outputs": [],
   "source": []
  }
 ],
 "metadata": {
  "colab": {
   "provenance": []
  },
  "kernelspec": {
   "display_name": "Python 3 (ipykernel)",
   "language": "python",
   "name": "python3"
  },
  "language_info": {
   "codemirror_mode": {
    "name": "ipython",
    "version": 3
   },
   "file_extension": ".py",
   "mimetype": "text/x-python",
   "name": "python",
   "nbconvert_exporter": "python",
   "pygments_lexer": "ipython3",
   "version": "3.10.6"
  },
  "vscode": {
   "interpreter": {
    "hash": "b0fa6594d8f4cbf19f97940f81e996739fb7646882a419484c72d19e05852a7e"
   }
  }
 },
 "nbformat": 4,
 "nbformat_minor": 1
}
