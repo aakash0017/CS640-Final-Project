{
 "cells": [
  {
   "cell_type": "code",
   "execution_count": 1,
   "metadata": {
    "id": "sm1LW99elk2p"
   },
   "outputs": [],
   "source": [
    "from PIL import Image, ImageSequence\n",
    "import numpy as np\n",
    "import matplotlib.pyplot as plt\n",
    "import os\n",
    "from scipy import spatial\n",
    "import pandas as pd"
   ]
  },
  {
   "cell_type": "code",
   "execution_count": null,
   "metadata": {
    "colab": {
     "base_uri": "https://localhost:8080/"
    },
    "id": "SBe4wmClEW1u",
    "outputId": "3c599bfd-736c-42a0-fa62-8d82e1a2be16"
   },
   "outputs": [
    {
     "name": "stdout",
     "output_type": "stream",
     "text": [
      "/content/drive/.shortcut-targets-by-id/1OCj3q-I00cBF_d4XqjrMNy7aYXG2FjI7/AI Project\n"
     ]
    }
   ],
   "source": [
    "%cd /content/drive/MyDrive/CS640 Project/AI Project/"
   ]
  },
  {
   "cell_type": "code",
   "execution_count": null,
   "metadata": {
    "id": "Vtrof-mq1T0I"
   },
   "outputs": [],
   "source": [
    "#Creating list of all the frames\n",
    "path = '/content/drive/MyDrive/CS640 Project/AI Project/'\n",
    "path_to_save = ''\n",
    "frame_list = []\n",
    "for filename in os.listdir(path):\n",
    "  im = Image.open(path+filename)\n",
    "  index = 0\n",
    "  temp = []\n",
    "  for frame in ImageSequence.Iterator(im):\n",
    "    f = frame.copy()\n",
    "    temp.append(f)\n",
    "  frame_list.append(temp)"
   ]
  },
  {
   "cell_type": "code",
   "execution_count": null,
   "metadata": {
    "id": "KcGVe2qXxdWY"
   },
   "outputs": [],
   "source": [
    "#Filterring frames with respect to cosine similarity\n",
    "pframes = []\n",
    "y = []\n",
    "for i in frame_list:\n",
    "  j = 0\n",
    "  copy = i.copy()\n",
    "  while j < len(copy)-1:\n",
    "    arr1 = np.array(copy[j])\n",
    "    arr2 = np.array(copy[j+1])\n",
    "    cosine = 1 - spatial.distance.cosine(arr1.ravel(), arr2.ravel())\n",
    "    if cosine > 0.75:\n",
    "      del copy[j+1]\n",
    "    else:\n",
    "      j+=1\n",
    "  pframes.append(copy)\n",
    "  "
   ]
  },
  {
   "cell_type": "code",
   "execution_count": null,
   "metadata": {
    "colab": {
     "base_uri": "https://localhost:8080/"
    },
    "id": "gEboGIuz7G-j",
    "outputId": "0df670e8-2a6a-4ad8-cd20-e4b7ea1599d6"
   },
   "outputs": [
    {
     "data": {
      "text/plain": [
       "331"
      ]
     },
     "execution_count": 7,
     "metadata": {},
     "output_type": "execute_result"
    }
   ],
   "source": [
    "len(pframes)"
   ]
  },
  {
   "cell_type": "code",
   "execution_count": null,
   "metadata": {
    "id": "ieaFoB2as0u1"
   },
   "outputs": [],
   "source": [
    "y = []\n",
    "path = '/content/drive/MyDrive/CS640 Project/AI Project/'\n",
    "files = os.listdir(path)\n",
    "\n",
    "for i in range(len(files)):\n",
    "  index = 0\n",
    "  for j in pframes[i]:\n",
    "    y.append(files[i] + f'{index}.png')\n",
    "    index+=1\n",
    "\n",
    "pd.DataFrame(y, columns = ['label']).to_csv('/content/drive/MyDrive/CS640 Project/Y.csv', index = False)"
   ]
  },
  {
   "cell_type": "code",
   "execution_count": null,
   "metadata": {
    "colab": {
     "base_uri": "https://localhost:8080/",
     "height": 35
    },
    "id": "pWKVwTmS6N05",
    "outputId": "4d63a55d-dd71-404a-9394-c566f27298e7"
   },
   "outputs": [
    {
     "data": {
      "application/vnd.google.colaboratory.intrinsic+json": {
       "type": "string"
      },
      "text/plain": [
       "'Chineese now a days33.png'"
      ]
     },
     "execution_count": 19,
     "metadata": {},
     "output_type": "execute_result"
    }
   ],
   "source": [
    "y[947]"
   ]
  },
  {
   "cell_type": "code",
   "execution_count": null,
   "metadata": {
    "id": "I8Lo8G0gH8Ca"
   },
   "outputs": [],
   "source": [
    "for idx, value in enumerate(y):\n",
    "  if len(value) < 2:\n",
    "    print(idx)"
   ]
  },
  {
   "cell_type": "code",
   "execution_count": null,
   "metadata": {
    "id": "3q3Syiq1HS40"
   },
   "outputs": [],
   "source": [
    "# y = pd.read_csv('/content/drive/MyDrive/CS640 Project/Y.csv')"
   ]
  },
  {
   "cell_type": "code",
   "execution_count": null,
   "metadata": {
    "colab": {
     "base_uri": "https://localhost:8080/"
    },
    "id": "h-omwABBubkK",
    "outputId": "cd2b93ff-aa36-41b6-dbe7-63565db48172"
   },
   "outputs": [
    {
     "name": "stdout",
     "output_type": "stream",
     "text": [
      "/content/drive/MyDrive/CS640 Project/Processed Frames\n"
     ]
    }
   ],
   "source": [
    "%cd /content/drive/MyDrive/CS640 Project/Processed Frames\n",
    "X = []\n",
    "index = 0\n",
    "for i in pframes:\n",
    "  for j in i:\n",
    "    name = y[index]\n",
    "    temp = j.resize((256,256))\n",
    "    # temp.save(name)\n",
    "    index+=1"
   ]
  },
  {
   "cell_type": "code",
   "execution_count": null,
   "metadata": {
    "colab": {
     "base_uri": "https://localhost:8080/"
    },
    "id": "2tMC_vx7WihS",
    "outputId": "a5f7ce7b-90b2-4ce6-c880-3a57628f9c94"
   },
   "outputs": [
    {
     "data": {
      "text/plain": [
       "2054"
      ]
     },
     "execution_count": 39,
     "metadata": {},
     "output_type": "execute_result"
    }
   ],
   "source": [
    "len(os.listdir('/content/drive/MyDrive/CS640 Project/Processed Frames'))"
   ]
  },
  {
   "cell_type": "markdown",
   "metadata": {
    "id": "XffuQz5sWxK-"
   },
   "source": [
    "### Delete All files in Processed Frames Directory"
   ]
  },
  {
   "cell_type": "code",
   "execution_count": null,
   "metadata": {
    "colab": {
     "base_uri": "https://localhost:8080/"
    },
    "id": "LO_VHQ01WvvC",
    "outputId": "755d885e-61be-4dd6-bb8b-60554b0a9aac"
   },
   "outputs": [
    {
     "name": "stdout",
     "output_type": "stream",
     "text": [
      "/content/drive/MyDrive/CS640 Project/Processed Frames\n"
     ]
    }
   ],
   "source": [
    "%cd /content/drive/MyDrive/CS640 Project/Processed Frames"
   ]
  },
  {
   "cell_type": "code",
   "execution_count": null,
   "metadata": {
    "id": "lE2okMzYV_J5"
   },
   "outputs": [],
   "source": [
    "!rm -fr * .*"
   ]
  }
 ],
 "metadata": {
  "colab": {
   "collapsed_sections": [],
   "provenance": []
  },
  "kernelspec": {
   "display_name": "Python 3 (ipykernel)",
   "language": "python",
   "name": "python3"
  },
  "language_info": {
   "codemirror_mode": {
    "name": "ipython",
    "version": 3
   },
   "file_extension": ".py",
   "mimetype": "text/x-python",
   "name": "python",
   "nbconvert_exporter": "python",
   "pygments_lexer": "ipython3",
   "version": "3.10.6"
  }
 },
 "nbformat": 4,
 "nbformat_minor": 1
}
